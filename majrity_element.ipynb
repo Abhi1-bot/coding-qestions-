{
 "cells": [
  {
   "cell_type": "code",
   "execution_count": 11,
   "id": "f0ce6ec3-6f35-4e29-8e66-0e8017abd77a",
   "metadata": {},
   "outputs": [
    {
     "data": {
      "text/plain": [
       "2"
      ]
     },
     "execution_count": 11,
     "metadata": {},
     "output_type": "execute_result"
    }
   ],
   "source": [
    "def majrity(arr):\n",
    "    for num in range(len(arr)):\n",
    "        count=0\n",
    "        for j in range(len(arr)):\n",
    "            if arr[num]==arr[j]:\n",
    "                count=count+1\n",
    "            elif  count/len(arr) :\n",
    "                return arr[num]\n",
    "arr=[2,3,1,2,4,2,55,43]\n",
    "majrity(arr)\n",
    "        \n",
    "\n",
    "        \n",
    "    "
   ]
  },
  {
   "cell_type": "code",
   "execution_count": null,
   "id": "258f9401-e027-4e4f-9d9a-c1262552ba22",
   "metadata": {},
   "outputs": [],
   "source": []
  }
 ],
 "metadata": {
  "kernelspec": {
   "display_name": "Python 3 (ipykernel)",
   "language": "python",
   "name": "python3"
  },
  "language_info": {
   "codemirror_mode": {
    "name": "ipython",
    "version": 3
   },
   "file_extension": ".py",
   "mimetype": "text/x-python",
   "name": "python",
   "nbconvert_exporter": "python",
   "pygments_lexer": "ipython3",
   "version": "3.12.4"
  }
 },
 "nbformat": 4,
 "nbformat_minor": 5
}
