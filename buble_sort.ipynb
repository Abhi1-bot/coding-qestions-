{
 "cells": [
  {
   "cell_type": "code",
   "execution_count": 3,
   "id": "5bc0ff7b-5714-4213-856c-6a8913b9bd8f",
   "metadata": {},
   "outputs": [
    {
     "name": "stdout",
     "output_type": "stream",
     "text": [
      "the buble sort arry is  [3, 6, 11, 22, 44, 55]\n"
     ]
    }
   ],
   "source": [
    "def bub_sort(arr):\n",
    "    for num  in range(len(arr)):\n",
    "        for j in range(len(arr)-1):\n",
    "            if arr[j]>arr[j+1]:\n",
    "                arr[j],arr[j+1]=arr[j+1],arr[j]\n",
    "    return arr\n",
    "\n",
    "arr=[22,44,11,6,55,3]\n",
    "print(\"the buble sort arry is \",bub_sort(arr))"
   ]
  },
  {
   "cell_type": "code",
   "execution_count": null,
   "id": "8336593c-0f68-4561-ad40-7ae358274ab4",
   "metadata": {},
   "outputs": [],
   "source": []
  }
 ],
 "metadata": {
  "kernelspec": {
   "display_name": "Python 3 (ipykernel)",
   "language": "python",
   "name": "python3"
  },
  "language_info": {
   "codemirror_mode": {
    "name": "ipython",
    "version": 3
   },
   "file_extension": ".py",
   "mimetype": "text/x-python",
   "name": "python",
   "nbconvert_exporter": "python",
   "pygments_lexer": "ipython3",
   "version": "3.12.4"
  }
 },
 "nbformat": 4,
 "nbformat_minor": 5
}
