{
 "cells": [
  {
   "cell_type": "code",
   "execution_count": 5,
   "id": "336f8c14-27c8-40da-9727-7efcaa7d486a",
   "metadata": {},
   "outputs": [
    {
     "name": "stdout",
     "output_type": "stream",
     "text": [
      "49\n"
     ]
    }
   ],
   "source": [
    "def most_water(arr):\n",
    "    maxx_water=0\n",
    "    for i in range(len(arr)):\n",
    "        for j in range(i+1,len(arr)):\n",
    "            w=j-i\n",
    "            hight=min(arr[i],arr[j])\n",
    "            area=w*hight\n",
    "            maxx_water=max(area,maxx_water)\n",
    "    return maxx_water\n",
    "\n",
    "\n",
    "arr= [1,8,6,2,5,4,8,3,7]\n",
    "print(most_water(arr))\n",
    "    "
   ]
  },
  {
   "cell_type": "code",
   "execution_count": null,
   "id": "f02ce7b6-8739-4536-8c6a-423355d7424c",
   "metadata": {},
   "outputs": [],
   "source": []
  }
 ],
 "metadata": {
  "kernelspec": {
   "display_name": "Python 3 (ipykernel)",
   "language": "python",
   "name": "python3"
  },
  "language_info": {
   "codemirror_mode": {
    "name": "ipython",
    "version": 3
   },
   "file_extension": ".py",
   "mimetype": "text/x-python",
   "name": "python",
   "nbconvert_exporter": "python",
   "pygments_lexer": "ipython3",
   "version": "3.13.5"
  }
 },
 "nbformat": 4,
 "nbformat_minor": 5
}
