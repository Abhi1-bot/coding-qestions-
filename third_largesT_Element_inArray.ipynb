{
 "cells": [
  {
   "cell_type": "raw",
   "id": "708fa8e5-04eb-496e-b61f-e6a71b73c80c",
   "metadata": {},
   "source": []
  },
  {
   "cell_type": "code",
   "execution_count": 23,
   "id": "a924f0d0-1575-4890-8fe5-7cfdbf87e256",
   "metadata": {},
   "outputs": [
    {
     "name": "stdout",
     "output_type": "stream",
     "text": [
      "the largest number in the arry is  441\n",
      " the second  largest number in the arry is  77\n",
      "the third largest number in arry  44\n"
     ]
    }
   ],
   "source": [
    "arr=[22,33,441,6,11,44,77]\n",
    "largest=arr[0]\n",
    "second_largest=arr[0]\n",
    "third_largest=arr[0]\n",
    "\n",
    "for num in arr:\n",
    "    if num > largest:\n",
    "        largest=num\n",
    "    \n",
    "print(\"the largest number in the arry is \", largest)\n",
    "\n",
    "for num in arr:\n",
    "    if num > second_largest and num != largest:\n",
    "        second_largest = num\n",
    "print(\" the second  largest number in the arry is \",second_largest)\n",
    "\n",
    "for num in arr:\n",
    "    if num > third_largest and num != second_largest and num != largest:\n",
    "        third_largest= num\n",
    "print(\"the third largest number in arry \",third_largest)"
   ]
  },
  {
   "cell_type": "code",
   "execution_count": null,
   "id": "7d0742fa-afaf-4d2a-a259-9429ecdbdc69",
   "metadata": {},
   "outputs": [],
   "source": []
  }
 ],
 "metadata": {
  "kernelspec": {
   "display_name": "Python 3 (ipykernel)",
   "language": "python",
   "name": "python3"
  },
  "language_info": {
   "codemirror_mode": {
    "name": "ipython",
    "version": 3
   },
   "file_extension": ".py",
   "mimetype": "text/x-python",
   "name": "python",
   "nbconvert_exporter": "python",
   "pygments_lexer": "ipython3",
   "version": "3.12.4"
  }
 },
 "nbformat": 4,
 "nbformat_minor": 5
}
