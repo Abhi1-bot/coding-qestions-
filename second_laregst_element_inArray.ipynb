{
 "cells": [
  {
   "cell_type": "code",
   "execution_count": 23,
   "id": "ce4ce0d3-ddf4-4ac1-8a22-9b5fc0132f56",
   "metadata": {},
   "outputs": [
    {
     "name": "stdout",
     "output_type": "stream",
     "text": [
      "the largest element in the arry is  77\n",
      "the second largest num is  55\n"
     ]
    }
   ],
   "source": [
    "arr=[1,22,33,55,3,77,8]\n",
    "largest=arr[0]\n",
    "second_largest=arr[0]\n",
    "\n",
    "for num in arr:\n",
    "    if num > largest:\n",
    "        largest=num\n",
    "print(\"the largest element in the arry is \",largest )\n",
    "\n",
    "for num  in arr:\n",
    "    if num > second_largest and num != largest:\n",
    "        second_largest= num\n",
    "print(\"the second largest num is \",second_largest )\n"
   ]
  },
  {
   "cell_type": "code",
   "execution_count": null,
   "id": "ac28994c-4d4e-47ab-b11f-6df7f1174392",
   "metadata": {},
   "outputs": [],
   "source": []
  }
 ],
 "metadata": {
  "kernelspec": {
   "display_name": "Python 3 (ipykernel)",
   "language": "python",
   "name": "python3"
  },
  "language_info": {
   "codemirror_mode": {
    "name": "ipython",
    "version": 3
   },
   "file_extension": ".py",
   "mimetype": "text/x-python",
   "name": "python",
   "nbconvert_exporter": "python",
   "pygments_lexer": "ipython3",
   "version": "3.12.4"
  }
 },
 "nbformat": 4,
 "nbformat_minor": 5
}
