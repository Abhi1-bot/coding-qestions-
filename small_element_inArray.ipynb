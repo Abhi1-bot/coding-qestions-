{
 "cells": [
  {
   "cell_type": "code",
   "execution_count": 3,
   "id": "82c70e76-da3e-4c7e-87fc-f347b28b041a",
   "metadata": {},
   "outputs": [
    {
     "name": "stdout",
     "output_type": "stream",
     "text": [
      "the small element of the array is 3\n"
     ]
    }
   ],
   "source": [
    "arr=[44,88,99,11,55,3,6,7]\n",
    "small=arr[0]\n",
    "for num in arr:\n",
    "    if num < small:\n",
    "        small=num\n",
    "print(\"the small element of the array is\", small)"
   ]
  },
  {
   "cell_type": "code",
   "execution_count": null,
   "id": "72e276f1-d458-41a2-a7be-f123a0cb42a6",
   "metadata": {},
   "outputs": [],
   "source": []
  }
 ],
 "metadata": {
  "kernelspec": {
   "display_name": "Python 3 (ipykernel)",
   "language": "python",
   "name": "python3"
  },
  "language_info": {
   "codemirror_mode": {
    "name": "ipython",
    "version": 3
   },
   "file_extension": ".py",
   "mimetype": "text/x-python",
   "name": "python",
   "nbconvert_exporter": "python",
   "pygments_lexer": "ipython3",
   "version": "3.12.4"
  }
 },
 "nbformat": 4,
 "nbformat_minor": 5
}
