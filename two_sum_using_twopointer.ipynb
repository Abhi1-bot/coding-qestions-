{
 "cells": [
  {
   "cell_type": "code",
   "execution_count": 7,
   "id": "72b07f29-5e7c-499a-98b8-459a05a04eb6",
   "metadata": {},
   "outputs": [
    {
     "name": "stdout",
     "output_type": "stream",
     "text": [
      "(2, 3)\n"
     ]
    }
   ],
   "source": [
    "def a(arr,target):\n",
    "  \n",
    "    left=arr[0]\n",
    "    right=len(arr)-1\n",
    "    while left<right:\n",
    "        current_sum=arr[left]+arr[right]\n",
    "        if current_sum==target:\n",
    "            return(arr[left],arr[right])\n",
    "        elif current_sum<target:\n",
    "            left=left+1\n",
    "        else:\n",
    "            right=right-1\n",
    "        \n",
    "        \n",
    "        \n",
    "arr=[1,2,3,4,5,6]\n",
    "target=5\n",
    "print(a(arr,target))"
   ]
  },
  {
   "cell_type": "code",
   "execution_count": null,
   "id": "9edecf85-cb4b-4745-bec3-c2624ce1b4b5",
   "metadata": {},
   "outputs": [],
   "source": []
  }
 ],
 "metadata": {
  "kernelspec": {
   "display_name": "Python 3 (ipykernel)",
   "language": "python",
   "name": "python3"
  },
  "language_info": {
   "codemirror_mode": {
    "name": "ipython",
    "version": 3
   },
   "file_extension": ".py",
   "mimetype": "text/x-python",
   "name": "python",
   "nbconvert_exporter": "python",
   "pygments_lexer": "ipython3",
   "version": "3.13.5"
  }
 },
 "nbformat": 4,
 "nbformat_minor": 5
}
