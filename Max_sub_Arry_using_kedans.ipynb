{
 "cells": [
  {
   "cell_type": "code",
   "execution_count": 7,
   "id": "539bdd56-9cc7-4d1c-a32b-b1d1ddfce04c",
   "metadata": {},
   "outputs": [
    {
     "name": "stdout",
     "output_type": "stream",
     "text": [
      "23\n"
     ]
    }
   ],
   "source": [
    "\n",
    "def kedans(arr):\n",
    "    sum=0\n",
    "    maxi=arr[0]\n",
    "    for i in range(len(arr)):\n",
    "        sum=sum+arr[i]\n",
    "        maxi=max(maxi,sum)\n",
    "        if sum<0:\n",
    "            sum=0\n",
    "    return maxi\n",
    "\n",
    "arr=[5,4,-1,7,8]\n",
    "print(kedans(arr))\n",
    "            \n",
    "        "
   ]
  },
  {
   "cell_type": "code",
   "execution_count": null,
   "id": "d44a0fc3-c697-481c-813c-3714f06487ef",
   "metadata": {},
   "outputs": [],
   "source": []
  }
 ],
 "metadata": {
  "kernelspec": {
   "display_name": "Python 3 (ipykernel)",
   "language": "python",
   "name": "python3"
  },
  "language_info": {
   "codemirror_mode": {
    "name": "ipython",
    "version": 3
   },
   "file_extension": ".py",
   "mimetype": "text/x-python",
   "name": "python",
   "nbconvert_exporter": "python",
   "pygments_lexer": "ipython3",
   "version": "3.13.5"
  }
 },
 "nbformat": 4,
 "nbformat_minor": 5
}
