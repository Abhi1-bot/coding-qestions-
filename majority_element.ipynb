{
 "cells": [
  {
   "cell_type": "code",
   "execution_count": 19,
   "id": "68361aeb-a657-4b5a-9ca0-f246f384100c",
   "metadata": {},
   "outputs": [
    {
     "name": "stdout",
     "output_type": "stream",
     "text": [
      "3\n"
     ]
    }
   ],
   "source": [
    " def find(arr):\n",
    "     for  i in range(len(arr)):\n",
    "         if arr.count(i)>1:\n",
    "             return i\n",
    "     \n",
    "     \n",
    "arr=[1,2,3,3,4]\n",
    "print(find(arr))\n",
    "                 "
   ]
  },
  {
   "cell_type": "code",
   "execution_count": null,
   "id": "1bd98197-aec4-49d5-959a-5d228157aea2",
   "metadata": {},
   "outputs": [],
   "source": []
  }
 ],
 "metadata": {
  "kernelspec": {
   "display_name": "Python 3 (ipykernel)",
   "language": "python",
   "name": "python3"
  },
  "language_info": {
   "codemirror_mode": {
    "name": "ipython",
    "version": 3
   },
   "file_extension": ".py",
   "mimetype": "text/x-python",
   "name": "python",
   "nbconvert_exporter": "python",
   "pygments_lexer": "ipython3",
   "version": "3.13.5"
  }
 },
 "nbformat": 4,
 "nbformat_minor": 5
}
