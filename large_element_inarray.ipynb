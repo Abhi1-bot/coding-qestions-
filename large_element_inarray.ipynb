{
 "cells": [
  {
   "cell_type": "code",
   "execution_count": 3,
   "id": "96e15502-d4db-4ff4-ae5e-7f6a021d0575",
   "metadata": {},
   "outputs": [
    {
     "name": "stdout",
     "output_type": "stream",
     "text": [
      "the largest element in the array is 77\n"
     ]
    }
   ],
   "source": [
    "arr=[11,44,77,0,55]\n",
    "largest=arr[0]\n",
    "for num in arr:\n",
    "    if num > largest :\n",
    "        largest=num\n",
    "print(\"the largest element in the array is\",largest)"
   ]
  },
  {
   "cell_type": "code",
   "execution_count": null,
   "id": "475310f7-80a8-4dd7-89cb-c3eef8d01069",
   "metadata": {},
   "outputs": [],
   "source": []
  }
 ],
 "metadata": {
  "kernelspec": {
   "display_name": "Python 3 (ipykernel)",
   "language": "python",
   "name": "python3"
  },
  "language_info": {
   "codemirror_mode": {
    "name": "ipython",
    "version": 3
   },
   "file_extension": ".py",
   "mimetype": "text/x-python",
   "name": "python",
   "nbconvert_exporter": "python",
   "pygments_lexer": "ipython3",
   "version": "3.12.4"
  }
 },
 "nbformat": 4,
 "nbformat_minor": 5
}
