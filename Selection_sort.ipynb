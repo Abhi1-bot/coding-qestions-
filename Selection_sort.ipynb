{
 "cells": [
  {
   "cell_type": "code",
   "execution_count": 3,
   "id": "5ede7583-25b6-4f71-8d91-2339fe0f0d48",
   "metadata": {},
   "outputs": [
    {
     "name": "stdout",
     "output_type": "stream",
     "text": [
      "selction sort arry is  [0, 11, 22, 33, 55, 777]\n"
     ]
    }
   ],
   "source": [
    "def selction_sort(arr):\n",
    "    for num in range(len(arr)):\n",
    "        min_pos=num\n",
    "        for j in range(num+1,len(arr)):\n",
    "            if arr[j]< arr[min_pos]:\n",
    "                min_pos=j\n",
    "        arr[num],arr[min_pos]=arr[min_pos],arr[num]\n",
    "    return arr\n",
    "arr=[11,777,0,22,33,55]\n",
    "print(\"selction sort arry is \",selction_sort(arr))"
   ]
  },
  {
   "cell_type": "code",
   "execution_count": null,
   "id": "0e3933b0-fcf7-4ea8-a5d4-d8105c1784c8",
   "metadata": {},
   "outputs": [],
   "source": []
  }
 ],
 "metadata": {
  "kernelspec": {
   "display_name": "Python 3 (ipykernel)",
   "language": "python",
   "name": "python3"
  },
  "language_info": {
   "codemirror_mode": {
    "name": "ipython",
    "version": 3
   },
   "file_extension": ".py",
   "mimetype": "text/x-python",
   "name": "python",
   "nbconvert_exporter": "python",
   "pygments_lexer": "ipython3",
   "version": "3.12.4"
  }
 },
 "nbformat": 4,
 "nbformat_minor": 5
}
