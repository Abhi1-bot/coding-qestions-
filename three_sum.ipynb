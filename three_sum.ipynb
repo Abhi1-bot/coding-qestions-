{
 "cells": [
  {
   "cell_type": "code",
   "execution_count": 22,
   "id": "260789ff-e313-4a20-b15d-252e49428177",
   "metadata": {},
   "outputs": [
    {
     "name": "stdout",
     "output_type": "stream",
     "text": [
      "(10, 8, 4)\n"
     ]
    }
   ],
   "source": [
    "def three(arr):\n",
    "    target = 22\n",
    "    for i in range(len(arr)):\n",
    "        for j in range(i + 1, len(arr)):\n",
    "            for k in range(j + 1, len(arr)):\n",
    "                if arr[i] + arr[j] + arr[k] == target:\n",
    "                    return arr[i], arr[j], arr[k]\n",
    "    return \"No combination found\"\n",
    "\n",
    "arr = [22, 11, 33, 10, 39, 8, 44, 4]\n",
    "print(three(arr))\n"
   ]
  },
  {
   "cell_type": "code",
   "execution_count": null,
   "id": "0623929e-3917-462e-9342-b595baf0b84a",
   "metadata": {},
   "outputs": [],
   "source": []
  }
 ],
 "metadata": {
  "kernelspec": {
   "display_name": "Python 3 (ipykernel)",
   "language": "python",
   "name": "python3"
  },
  "language_info": {
   "codemirror_mode": {
    "name": "ipython",
    "version": 3
   },
   "file_extension": ".py",
   "mimetype": "text/x-python",
   "name": "python",
   "nbconvert_exporter": "python",
   "pygments_lexer": "ipython3",
   "version": "3.12.4"
  }
 },
 "nbformat": 4,
 "nbformat_minor": 5
}
