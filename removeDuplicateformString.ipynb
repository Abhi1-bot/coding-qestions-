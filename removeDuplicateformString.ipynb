{
 "cells": [
  {
   "cell_type": "code",
   "execution_count": 11,
   "id": "c89f5257-451a-44b5-8a0b-1c1e125bd43b",
   "metadata": {},
   "outputs": [
    {
     "name": "stdout",
     "output_type": "stream",
     "text": [
      "abh\n"
     ]
    }
   ],
   "source": [
    "def remove(string):\n",
    "    s=\"\"\n",
    "    for i in string:\n",
    "        if i not in s:\n",
    "            s=s+i\n",
    "    return s\n",
    "string=\"aaabbbhhh\"\n",
    "print(remove(string))\n",
    "        "
   ]
  },
  {
   "cell_type": "code",
   "execution_count": null,
   "id": "239385cd-6b83-499d-8000-afc2651655b3",
   "metadata": {},
   "outputs": [],
   "source": []
  }
 ],
 "metadata": {
  "kernelspec": {
   "display_name": "Python 3 (ipykernel)",
   "language": "python",
   "name": "python3"
  },
  "language_info": {
   "codemirror_mode": {
    "name": "ipython",
    "version": 3
   },
   "file_extension": ".py",
   "mimetype": "text/x-python",
   "name": "python",
   "nbconvert_exporter": "python",
   "pygments_lexer": "ipython3",
   "version": "3.13.5"
  }
 },
 "nbformat": 4,
 "nbformat_minor": 5
}
