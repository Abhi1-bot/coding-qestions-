{
 "cells": [
  {
   "cell_type": "code",
   "execution_count": 11,
   "id": "48aaedb5-e8df-42a4-b84a-d20e5d9bb154",
   "metadata": {},
   "outputs": [
    {
     "name": "stdout",
     "output_type": "stream",
     "text": [
      "3\n"
     ]
    }
   ],
   "source": [
    "def f(string):\n",
    "    v=\"aeiou\"\n",
    "    count=0\n",
    "    \n",
    "    \n",
    "    for i in string:\n",
    "        if i in v:\n",
    "            count=count+1\n",
    "        \n",
    "    return count\n",
    "string=\"abhishek\"\n",
    "print(f(string))\n",
    "        "
   ]
  },
  {
   "cell_type": "code",
   "execution_count": null,
   "id": "a33df16d-b13c-45e5-8d74-e2b03abd0058",
   "metadata": {},
   "outputs": [],
   "source": []
  }
 ],
 "metadata": {
  "kernelspec": {
   "display_name": "Python 3 (ipykernel)",
   "language": "python",
   "name": "python3"
  },
  "language_info": {
   "codemirror_mode": {
    "name": "ipython",
    "version": 3
   },
   "file_extension": ".py",
   "mimetype": "text/x-python",
   "name": "python",
   "nbconvert_exporter": "python",
   "pygments_lexer": "ipython3",
   "version": "3.13.5"
  }
 },
 "nbformat": 4,
 "nbformat_minor": 5
}
