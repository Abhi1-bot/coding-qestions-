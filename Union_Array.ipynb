{
 "cells": [
  {
   "cell_type": "code",
   "execution_count": 57,
   "id": "dbc74b08-a24a-4c17-bd99-18b961246e8b",
   "metadata": {},
   "outputs": [
    {
     "name": "stdout",
     "output_type": "stream",
     "text": [
      "[1, 2, 3, 4, 5, 6]\n"
     ]
    }
   ],
   "source": [
    "def un(arr1, arr2):\n",
    "    stack = []\n",
    "    for num in arr1:\n",
    "        if len(stack)==0  or   num != stack[-1]:\n",
    "            if num not in stack:\n",
    "                stack.append(num)\n",
    "\n",
    "    for num in arr2:\n",
    "        if len(stack)==0 or num != stack[-1]:\n",
    "            if num not in stack:\n",
    "                stack.append(num)\n",
    "\n",
    "    return stack\n",
    "\n",
    "arr1 = [1, 1,2, 2,3, 4,1]\n",
    "arr2 = [1,3, 4, 5,5,5, 6]\n",
    "print(un(arr1, arr2))\n"
   ]
  },
  {
   "cell_type": "code",
   "execution_count": null,
   "id": "c5d1cb79-9fdd-4e00-9902-8fd591c3eb9b",
   "metadata": {},
   "outputs": [],
   "source": []
  }
 ],
 "metadata": {
  "kernelspec": {
   "display_name": "Python 3 (ipykernel)",
   "language": "python",
   "name": "python3"
  },
  "language_info": {
   "codemirror_mode": {
    "name": "ipython",
    "version": 3
   },
   "file_extension": ".py",
   "mimetype": "text/x-python",
   "name": "python",
   "nbconvert_exporter": "python",
   "pygments_lexer": "ipython3",
   "version": "3.12.4"
  }
 },
 "nbformat": 4,
 "nbformat_minor": 5
}
