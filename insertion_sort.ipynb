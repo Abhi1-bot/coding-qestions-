{
 "cells": [
  {
   "cell_type": "code",
   "execution_count": 19,
   "id": "e1261e15-b302-4ba2-ab07-5929a08bf8a7",
   "metadata": {},
   "outputs": [
    {
     "name": "stdout",
     "output_type": "stream",
     "text": [
      "the insertion sort arry is  [1, 7, 9, 22, 33, 55, 8888]\n"
     ]
    }
   ],
   "source": [
    "def in_sort(arr):\n",
    "    for num in range(1,len(arr)):\n",
    "        key=arr[num]\n",
    "        j=num-1\n",
    "        while j>=0 and arr[j]>key:\n",
    "            arr[j+1]=arr[j]\n",
    "            j=j-1\n",
    "        arr[j+1]=key\n",
    "    return arr\n",
    "arr=[22,33,1,55,7,8888,9]\n",
    "print(\"the insertion sort arry is \",in_sort(arr))"
   ]
  },
  {
   "cell_type": "code",
   "execution_count": null,
   "id": "368c3331-8052-428b-9342-d8bbf7840c93",
   "metadata": {},
   "outputs": [],
   "source": []
  }
 ],
 "metadata": {
  "kernelspec": {
   "display_name": "Python 3 (ipykernel)",
   "language": "python",
   "name": "python3"
  },
  "language_info": {
   "codemirror_mode": {
    "name": "ipython",
    "version": 3
   },
   "file_extension": ".py",
   "mimetype": "text/x-python",
   "name": "python",
   "nbconvert_exporter": "python",
   "pygments_lexer": "ipython3",
   "version": "3.12.4"
  }
 },
 "nbformat": 4,
 "nbformat_minor": 5
}
