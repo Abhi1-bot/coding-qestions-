{
 "cells": [
  {
   "cell_type": "code",
   "execution_count": 10,
   "id": "7d9a8abf-de73-4650-8ce2-e524adc4529b",
   "metadata": {},
   "outputs": [
    {
     "name": "stdout",
     "output_type": "stream",
     "text": [
      "{'a': 1, 'b': 1, 'h': 2, 'i': 1, 's': 1, 'e': 2, 'k': 2, 'o': 1, 'n': 1, 'd': 1}\n"
     ]
    }
   ],
   "source": [
    "def c(string):\n",
    "    fr = {}\n",
    "    for i in string:\n",
    "        if i in fr:\n",
    "            fr[i]=fr[i]+1\n",
    "        else:\n",
    "            fr[i] = 1\n",
    "    return fr\n",
    "\n",
    "string = \"abhishekkonde\"\n",
    "print(c(string))\n"
   ]
  },
  {
   "cell_type": "code",
   "execution_count": null,
   "id": "45c11f36-ec9b-4c3e-8e4a-cb066c83c073",
   "metadata": {},
   "outputs": [],
   "source": []
  }
 ],
 "metadata": {
  "kernelspec": {
   "display_name": "Python 3 (ipykernel)",
   "language": "python",
   "name": "python3"
  },
  "language_info": {
   "codemirror_mode": {
    "name": "ipython",
    "version": 3
   },
   "file_extension": ".py",
   "mimetype": "text/x-python",
   "name": "python",
   "nbconvert_exporter": "python",
   "pygments_lexer": "ipython3",
   "version": "3.13.5"
  }
 },
 "nbformat": 4,
 "nbformat_minor": 5
}
