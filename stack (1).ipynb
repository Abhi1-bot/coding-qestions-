{
 "cells": [
  {
   "cell_type": "code",
   "execution_count": 36,
   "id": "dd6284e7-cf32-4538-b63c-1150dee0c555",
   "metadata": {},
   "outputs": [
    {
     "name": "stdout",
     "output_type": "stream",
     "text": [
      "[12, 11, 10, 9, 8]\n",
      "[11, 10, 9, 8]\n"
     ]
    }
   ],
   "source": [
    "class stack():\n",
    "    def __init__(self):\n",
    "        self.stack=[]\n",
    "    def push(self,data):\n",
    "        self.stack.append(data)\n",
    "    def display(self):\n",
    "        print(self.stack)\n",
    "    def delete(self,data):\n",
    "        if self.stack is not None:\n",
    "            self.stack.remove(data)\n",
    "        else:\n",
    "            print(\"satck is empty \")\n",
    "s=stack()\n",
    "s.push(12)\n",
    "s.push(11)\n",
    "s.push(10)\n",
    "s.push(9)\n",
    "s.push(8)\n",
    "s.display()\n",
    "s.delete(12)\n",
    "s.display()\n"
   ]
  },
  {
   "cell_type": "code",
   "execution_count": null,
   "id": "86513554-2f0a-47c0-85d2-9284062bd8aa",
   "metadata": {},
   "outputs": [],
   "source": []
  },
  {
   "cell_type": "code",
   "execution_count": null,
   "id": "480c818b-20ef-48a0-bfa1-a624c0496d0c",
   "metadata": {},
   "outputs": [],
   "source": []
  }
 ],
 "metadata": {
  "kernelspec": {
   "display_name": "Python 3 (ipykernel)",
   "language": "python",
   "name": "python3"
  },
  "language_info": {
   "codemirror_mode": {
    "name": "ipython",
    "version": 3
   },
   "file_extension": ".py",
   "mimetype": "text/x-python",
   "name": "python",
   "nbconvert_exporter": "python",
   "pygments_lexer": "ipython3",
   "version": "3.12.4"
  }
 },
 "nbformat": 4,
 "nbformat_minor": 5
}
